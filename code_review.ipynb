{
 "cells": [
  {
   "cell_type": "code",
   "execution_count": 1,
   "id": "80f101d5",
   "metadata": {},
   "outputs": [
    {
     "name": "stdout",
     "output_type": "stream",
     "text": [
      "2\n",
      "10\n",
      "15\n",
      "20\n"
     ]
    }
   ],
   "source": [
    "# 틀린 것\n",
    "\n",
    "n = int(input())\n",
    "nlist = []\n",
    "for i in range(n):\n",
    "    nlist.append(int(input()))\n",
    "\n",
    "sum = max(nlist)\n",
    "count = 1\n",
    "for component in nlist:\n",
    "    count += 1\n",
    "    nlist.pop(nlist.index(max(nlist)))\n",
    "    if max(nlist)*count > sum:\n",
    "        sum = max(nlist)*count # update sum\n",
    "    else: \n",
    "        break\n",
    "print(sum)"
   ]
  },
  {
   "cell_type": "code",
   "execution_count": 2,
   "id": "bb41ba5a",
   "metadata": {},
   "outputs": [
    {
     "name": "stdout",
     "output_type": "stream",
     "text": [
      "2\n",
      "10\n",
      "15\n",
      "20\n"
     ]
    }
   ],
   "source": [
    "# 맞는 것\n",
    "# 무결성이 문제인거같은데 어디가,,,?\n",
    "\n",
    "n = int(input())\n",
    "nlist = []\n",
    "for i in range(n):\n",
    "    nlist.append(int(input()))\n",
    "\n",
    "nlist.sort(reverse=True)\n",
    "ans = []\n",
    "for i in range(len(nlist)):\n",
    "    ans.append(nlist[i]*(i+1))\n",
    "\n",
    "print(max(ans))"
   ]
  },
  {
   "cell_type": "code",
   "execution_count": 3,
   "id": "694f19a4",
   "metadata": {},
   "outputs": [
    {
     "name": "stdout",
     "output_type": "stream",
     "text": [
      "18\n",
      "4\n"
     ]
    }
   ],
   "source": [
    "# 내 코드\n",
    "\n",
    "import math\n",
    "n = int(input())\n",
    "\n",
    "small_bag = 3\n",
    "big_bag = 5\n",
    "ans = -1\n",
    "\n",
    "count = n/big_bag\n",
    "count = math.ceil(count)\n",
    "\n",
    "while True:\n",
    "    if n % big_bag == 0:\n",
    "        ans = (n/big_bag)\n",
    "        break\n",
    "        \n",
    "    elif count < 0:\n",
    "        break\n",
    "        \n",
    "    elif (n - (count*big_bag)) % small_bag == 0 and n - (count*big_bag) >= 0: # 부호가 마이너스일 수 있음\n",
    "        ans = count + ((n - (count*big_bag)) / small_bag)\n",
    "        break\n",
    "    count -= 1\n",
    "    \n",
    "print(int(ans))"
   ]
  },
  {
   "cell_type": "code",
   "execution_count": 4,
   "id": "343b1144",
   "metadata": {},
   "outputs": [
    {
     "name": "stdout",
     "output_type": "stream",
     "text": [
      "18\n",
      "4\n"
     ]
    }
   ],
   "source": [
    "# 더 좋은 코드\n",
    "\n",
    "import math\n",
    "n = int(input())\n",
    "\n",
    "small_bag = 3\n",
    "big_bag = 5\n",
    "ans = -1\n",
    "\n",
    "count = n/big_bag\n",
    "count = math.ceil(count)\n",
    "\n",
    "while True:\n",
    "    if n % big_bag == 0:\n",
    "        ans = (n/big_bag)\n",
    "        break\n",
    "        \n",
    "    elif count < 0:\n",
    "        break\n",
    "        \n",
    "    elif (n - (count*big_bag)) % small_bag == 0 and n - (count*big_bag) >= 0: # 부호가 마이너스일 수 있음\n",
    "        ans = count + ((n - (count*big_bag)) / small_bag)\n",
    "        break\n",
    "    count -= 1\n",
    "    \n",
    "print(int(ans))"
   ]
  },
  {
   "cell_type": "code",
   "execution_count": 7,
   "id": "ca990ae3",
   "metadata": {},
   "outputs": [
    {
     "name": "stdout",
     "output_type": "stream",
     "text": [
      "5\n",
      "13 1 4 5 2\n",
      "48\n"
     ]
    }
   ],
   "source": [
    "# 내 코드\n",
    "\n",
    "n = int(input())\n",
    "nlist = list(map(int, input().split()))\n",
    "\n",
    "nlist.sort()\n",
    "sum = 0\n",
    "prev = 0\n",
    "for i in range(n):\n",
    "    sum += nlist[i] + prev\n",
    "    prev += nlist[i]\n",
    "print(sum)"
   ]
  },
  {
   "cell_type": "code",
   "execution_count": 10,
   "id": "30e4046f",
   "metadata": {},
   "outputs": [
    {
     "name": "stdout",
     "output_type": "stream",
     "text": [
      "5\n",
      "13 1 4 5 2\n",
      "48\n"
     ]
    }
   ],
   "source": [
    "# 더 좋은 코드\n",
    "\n",
    "n = int(input())\n",
    "nlist = list(map(int, input().split()))\n",
    "\n",
    "nlist.sort()\n",
    "sum = 0\n",
    "prev = 0\n",
    "for i in range(n):\n",
    "    sum += nlist[i] + prev\n",
    "    prev += nlist[i]\n",
    "print(sum)"
   ]
  },
  {
   "cell_type": "code",
   "execution_count": 12,
   "id": "738715b4",
   "metadata": {},
   "outputs": [
    {
     "name": "stdout",
     "output_type": "stream",
     "text": [
      "4997\n",
      "997\n",
      "1001\n"
     ]
    }
   ],
   "source": [
    "# 부호가 마이너스여도 나누기 연산가능\n",
    "# 틀린 코드\n",
    "\n",
    "import math\n",
    "n = int(input())\n",
    "\n",
    "small_bag = 3\n",
    "big_bag = 5\n",
    "ans = -1\n",
    "\n",
    "count = n/big_bag\n",
    "count = math.ceil(count)\n",
    "\n",
    "while True:\n",
    "    if n % big_bag == 0:\n",
    "        ans = (n/big_bag)\n",
    "        break\n",
    "        \n",
    "    elif count < 0:\n",
    "        break\n",
    "        \n",
    "    elif (n - (count*big_bag)) % small_bag == 0 and n - (count*big_bag) >= 0: # 부호가 마이너스네..\n",
    "        ans = count + ((n - (count*big_bag)) / small_bag)\n",
    "        print(count)\n",
    "        break\n",
    "    count -= 1\n",
    "    \n",
    "print(int(ans))"
   ]
  },
  {
   "cell_type": "code",
   "execution_count": 11,
   "id": "8a4372ff",
   "metadata": {},
   "outputs": [
    {
     "name": "stdout",
     "output_type": "stream",
     "text": [
      "4997\n",
      "1000\n",
      "999\n"
     ]
    }
   ],
   "source": [
    "# 무결성 틀림\n",
    "\n",
    "import math\n",
    "n = int(input())\n",
    "\n",
    "small_bag = 3\n",
    "big_bag = 5\n",
    "ans = -1\n",
    "\n",
    "count = n/big_bag\n",
    "count = math.ceil(count)\n",
    "\n",
    "while True:\n",
    "    if n % big_bag == 0:\n",
    "        ans = (n/big_bag)\n",
    "        break\n",
    "        \n",
    "    elif count < 0:\n",
    "        break\n",
    "        \n",
    "    elif (n - (count*big_bag)) % small_bag == 0: \n",
    "        ans = count + ((n - (count*big_bag)) / small_bag)\n",
    "        print(count)\n",
    "        break\n",
    "    count -= 1\n",
    "    \n",
    "print(int(ans))"
   ]
  },
  {
   "cell_type": "code",
   "execution_count": 1,
   "id": "824f0d87",
   "metadata": {},
   "outputs": [
    {
     "name": "stdout",
     "output_type": "stream",
     "text": [
      "200\n",
      "19\n"
     ]
    }
   ],
   "source": [
    "# 내 코드\n",
    "\n",
    "n = int(input())\n",
    "\n",
    "num = 0\n",
    "sum = 0\n",
    "count = 0\n",
    "while num <= n:\n",
    "    num += 1\n",
    "    if sum+num+num+1 > n:\n",
    "        count+= 1\n",
    "        break\n",
    "    else :\n",
    "        count += 1\n",
    "        sum += num\n",
    "print(count)"
   ]
  },
  {
   "cell_type": "code",
   "execution_count": 2,
   "id": "3de51e9d",
   "metadata": {},
   "outputs": [
    {
     "name": "stdout",
     "output_type": "stream",
     "text": [
      "200\n",
      "19\n"
     ]
    }
   ],
   "source": [
    "# 심플한 코드\n",
    "\n",
    "s = int(input())\n",
    "n = 1\n",
    "while n * (n + 1) / 2 <= s:\n",
    "    n += 1\n",
    "print(n - 1)\n",
    "\n",
    "# 아 그러네 마지막 숫자 두개가 넘어가면 1을 더해주면 되니까 모두 1씩 더해주고 마지막에 1빼주면 되네 if문으로 할 필요는 없네\n",
    "# 5을 예를 들면\n",
    "# 1 + 2 + 3 이미 6이 되어버렸으니\n",
    "# 1 + 4를 해주어야 함 따라서 n-1...내 코드에도 있는데 if문을 썼음"
   ]
  },
  {
   "cell_type": "code",
   "execution_count": null,
   "id": "cbfee986",
   "metadata": {},
   "outputs": [],
   "source": []
  }
 ],
 "metadata": {
  "kernelspec": {
   "display_name": "Python 3 (ipykernel)",
   "language": "python",
   "name": "python3"
  },
  "language_info": {
   "codemirror_mode": {
    "name": "ipython",
    "version": 3
   },
   "file_extension": ".py",
   "mimetype": "text/x-python",
   "name": "python",
   "nbconvert_exporter": "python",
   "pygments_lexer": "ipython3",
   "version": "3.9.13"
  }
 },
 "nbformat": 4,
 "nbformat_minor": 5
}
