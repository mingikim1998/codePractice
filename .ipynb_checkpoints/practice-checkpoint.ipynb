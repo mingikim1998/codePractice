{
 "cells": [
  {
   "cell_type": "code",
   "execution_count": 4,
   "id": "399a548f",
   "metadata": {},
   "outputs": [],
   "source": [
    "def commaInserter():\n",
    "    n = int(input())\n",
    "    print(f\"{n:,}\")"
   ]
  },
  {
   "cell_type": "code",
   "execution_count": null,
   "id": "d861a384",
   "metadata": {},
   "outputs": [],
   "source": [
    "def user_input():\n",
    "    try:\n",
    "        number = input(\"숫자를 입력하세요.: \")\n",
    "        if number.isalpha():\n",
    "            raise Exception('숫자가 아닙니다.\\n')\n",
    "        elif any([x in number for x in '\"\\'!@#$%^&**']):\n",
    "            raise Exception('숫자가 아닙니다.\\n') \n",
    "        return number   \n",
    "    except Exception as e:\n",
    "        print(e)\n",
    "        return user_input()\n",
    "    \n",
    "def make_comma(number):\n",
    "    if '-' in number:\n",
    "        number = -int(number)\n",
    "        number = str(number)\n",
    "    num_list = list(number)\n",
    "    new_list = []\n",
    "    count = 0\n",
    "    for num in reversed(num_list):\n",
    "        new_list.append(num)\n",
    "        count = count + 1\n",
    "        if count == 3:\n",
    "            new_list.append(',')\n",
    "            count = 0\n",
    "    if new_list[-1] == ',':    \n",
    "        new_list.pop(-1)   \n",
    "    new_list.reverse()\n",
    "    new_list = ''.join(new_list)\n",
    "    return new_list\n",
    "\n",
    "\n",
    "number = user_input()\n",
    "if '-' in number:\n",
    "    print(f'-{make_comma(number)}')\n",
    "else:\n",
    "    print(make_comma(number))"
   ]
  },
  {
   "cell_type": "code",
   "execution_count": null,
   "id": "c7429ace",
   "metadata": {},
   "outputs": [],
   "source": [
    "f = open(\"mission_2.txt\", 'w')\n",
    "text = \"find find find find\"\n",
    "f.write(text)\n",
    "f.close()\n",
    "\n",
    "f = open(\"mission_2.txt\", 'r')\n",
    "data = f.read()\n",
    "find = input(\"무엇을 찾을래?: \")\n",
    "count = 0\n",
    "index = 0\n",
    "while True:\n",
    "    if find not in data:\n",
    "        print(\"값이 존재하지 않습니다. 다시 입력해주세요.\")\n",
    "        find = input(\"무엇을 찾을래?: \")\n",
    "        continue\n",
    "    index = data.find(find, index)\n",
    "    if index == -1:\n",
    "        break\n",
    "    index = index + 1\n",
    "    count = count + 1\n",
    "print(count)\n",
    "\n",
    "f.close()"
   ]
  },
  {
   "cell_type": "code",
   "execution_count": null,
   "id": "4aeec5fb",
   "metadata": {},
   "outputs": [],
   "source": [
    "def input_id():\n",
    "    id = input(\"주민등록번호를 입력해주세요.(-포함): \")\n",
    "    if len(id) != 14:\n",
    "        print(\"다시 입력해주세요.\\n\")\n",
    "        return input_id()\n",
    "    elif id[6] != '-':\n",
    "        print(\"다시 입력해주세요.\\n\")\n",
    "        return input_id()\n",
    "    elif not (0 < int(id[2:4]) < 13):\n",
    "        print(\"다시 입력해주세요.\\n\")\n",
    "        return input_id()\n",
    "    elif not (1 <= int(id[4:6]) <= 31):\n",
    "        print(\"다시 입력해주세요.\\n\")\n",
    "        return input_id()\n",
    "    return id\n",
    "\n",
    "def check_gender(id):\n",
    "    if gender == '1': \n",
    "        return '남자'\n",
    "    elif gender == '2':\n",
    "        return '여자'\n",
    "    if gender == '3' and (00 <= int(year) <= 21):\n",
    "        return 3\n",
    "    elif gender == '4' and (00 <= int(year) <= 21):\n",
    "        return 4\n",
    "    else:\n",
    "        return -1\n",
    "        \n",
    "        \n",
    "def check_information(id):\n",
    "    if check_gender(id) == -1:\n",
    "       # print(\"올바른 값을 입력해주세요.\")\n",
    "        return -1\n",
    "    elif 00 <= int(year) <= 21:\n",
    "        check = input(\"2000년 이후 출생자 입니까? 맞으면 o 아니면 x: \")\n",
    "        if check == 'o':\n",
    "            if check_gender(id) == 3:\n",
    "                print(f\"20{year}년 {month}월 남자\")\n",
    "                quit()\n",
    "            elif check_gender(id) == 4:\n",
    "                print(f\"20{year}년 {month}월 여자\")\n",
    "                quit()\n",
    "            else:\n",
    "                print(\"올바른 값을 입력해주세요.\\n\")\n",
    "                return check_information(id)\n",
    "        elif check == 'x':\n",
    "            print(f\"19{year}년 {month}월 {check_gender(id)}\")\n",
    "            quit()\n",
    "    else:\n",
    "        print(f\"19{year}년 {month}월 {check_gender(id)}\")\n",
    "        quit()\n",
    "\n",
    "\n",
    "while True:\n",
    "    id = input_id()\n",
    "    year = id[0:2]\n",
    "    month = id[2:4]\n",
    "    date = id[4:6]\n",
    "    gender = id[7]\n",
    "    check_information(id)\n",
    "    if check_information(id) == -1:\n",
    "        continue"
   ]
  },
  {
   "cell_type": "code",
   "execution_count": null,
   "id": "a87ffc61",
   "metadata": {},
   "outputs": [],
   "source": []
  },
  {
   "cell_type": "code",
   "execution_count": 5,
   "id": "cf88d3ba",
   "metadata": {},
   "outputs": [
    {
     "name": "stdout",
     "output_type": "stream",
     "text": [
      "100000000\n",
      "100,000,000\n"
     ]
    }
   ],
   "source": [
    "commaInserter()"
   ]
  },
  {
   "cell_type": "code",
   "execution_count": 14,
   "id": "623583d6",
   "metadata": {},
   "outputs": [],
   "source": [
    "def WordCounter(sentence:str, word:str):\n",
    "    f = open(\"word.txt\",\"w\") # 경로, 파일 이름 지정?\n",
    "    f.write(sentence)\n",
    "    f.close()\n",
    "    return sentence.count(word)"
   ]
  },
  {
   "cell_type": "code",
   "execution_count": 15,
   "id": "8bbbe85a",
   "metadata": {},
   "outputs": [
    {
     "data": {
      "text/plain": [
       "3"
      ]
     },
     "execution_count": 15,
     "metadata": {},
     "output_type": "execute_result"
    }
   ],
   "source": [
    "WordCounter(\"대한민국만세대한대한\",\"대한\")"
   ]
  },
  {
   "cell_type": "code",
   "execution_count": 100,
   "id": "ad2f6303",
   "metadata": {},
   "outputs": [],
   "source": [
    "def FormatCorrector(contact:str):\n",
    "    f = open(\"contact.txt\",\"w\") # 경로, 파일 이름 지정?\n",
    "    f.write(contact)\n",
    "    f.close()\n",
    "    contactList = []\n",
    "    falseContactList = []\n",
    "    contact = contact.replace(\",\",\"\\n\")\n",
    "    contactList = contact.split(\"\\n\")\n",
    "    tmp = -1\n",
    "    for i in contactList:\n",
    "        tmp += 1\n",
    "        if tmp % 2 == 1: # 번호에 대해서\n",
    "            if len(i) == 13 and i[:3] == \"010\" and i[3] == \"-\" and i[8] == \"-\": # 길이\n",
    "                pass\n",
    "            else :\n",
    "                falseContactList.append(contactList[tmp-1])\n",
    "                falseContactList.append(i)\n",
    "                \n",
    "        else : # 이름에 대해서\n",
    "            continue\n",
    "            \n",
    "    tmp = 0\n",
    "    for i in falseContactList:\n",
    "        tmp += 1\n",
    "        if tmp % 2 == 1:\n",
    "            print(\"잘못 쓴 사람: \", i)\n",
    "        else:\n",
    "            print(\"잘못 쓴 번호: \", i)\n",
    "            print(\"\\n\")\n",
    "    return falseContactList"
   ]
  },
  {
   "cell_type": "code",
   "execution_count": 101,
   "id": "4f9fc7fb",
   "metadata": {},
   "outputs": [
    {
     "name": "stdout",
     "output_type": "stream",
     "text": [
      "잘못 쓴 사람:  김갑\n",
      "잘못 쓴 번호:  123456789\n",
      "\n",
      "\n",
      "잘못 쓴 사람:  박병\n",
      "잘못 쓴 번호:  010-5678-111\n",
      "\n",
      "\n",
      "잘못 쓴 사람:  최정\n",
      "잘못 쓴 번호:  111-1111-1111\n",
      "\n",
      "\n"
     ]
    },
    {
     "data": {
      "text/plain": [
       "['김갑', '123456789', '박병', '010-5678-111', '최정', '111-1111-1111']"
      ]
     },
     "execution_count": 101,
     "metadata": {},
     "output_type": "execute_result"
    }
   ],
   "source": [
    "example = \"\"\"김갑,123456789\n",
    "이을,010-1234-5678\n",
    "박병,010-5678-111\n",
    "최정,111-1111-1111\n",
    "정무,010-3333-3333\"\"\"\n",
    "\n",
    "FormatCorrector(example)"
   ]
  },
  {
   "cell_type": "code",
   "execution_count": null,
   "id": "5edfc43c",
   "metadata": {},
   "outputs": [],
   "source": [
    "def IdChecker():\n",
    "    yourID = input()\n",
    "    if len(yourID) != 14:\n",
    "        print(\"ID length incorrect! \")\n",
    "        IdChecker()\n",
    "    if int(yourID[:2]) <= 21:\n",
    "        q = input(\"2000년 이후 출생자 입니까? 맞으면 o 아니면 x : \")\n",
    "        if q == \"x\":\n",
    "            print(\"Abort and restart\")\n",
    "            IdChecker()\n",
    "    "
   ]
  },
  {
   "cell_type": "code",
   "execution_count": 28,
   "id": "0a82f5fc",
   "metadata": {},
   "outputs": [
    {
     "name": "stdout",
     "output_type": "stream",
     "text": [
      "월급을 만원 단위로 입력하세요 : 300\n",
      "세전연봉 :  3600 만원\n",
      "세후연봉 :  3060 만원\n"
     ]
    }
   ],
   "source": [
    "yearly_payment = 12*int(input(\"월급을 만원 단위로 입력하세요 : \"))\n",
    "\n",
    "if yearly_payment > 50000:\n",
    "    net_income = yearly_payment*0.58\n",
    "elif yearly_payment > 30000:\n",
    "    net_income = yearly_payment*0.60\n",
    "elif yearly_payment > 15000:\n",
    "    net_income = yearly_payment*0.62\n",
    "elif yearly_payment > 8800:\n",
    "    net_income = yearly_payment*0.65\n",
    "elif yearly_payment > 4600:\n",
    "    net_income = yearly_payment*0.76\n",
    "elif yearly_payment > 1200:\n",
    "    net_income = yearly_payment*0.85\n",
    "else:\n",
    "    net_income = yearly_payment*0.94\n",
    "print(\"세전연봉 : \", yearly_payment, \"만원\")\n",
    "print(\"세후연봉 : \", int(net_income), \"만원\")"
   ]
  },
  {
   "cell_type": "code",
   "execution_count": 32,
   "id": "3da93bab",
   "metadata": {},
   "outputs": [
    {
     "name": "stdout",
     "output_type": "stream",
     "text": [
      "학생 이름: 김민기\n",
      "점수: 10\n",
      "학생이름:  김민기 \n",
      " 점수:  10 \n",
      " 학점:  F\n"
     ]
    }
   ],
   "source": [
    "def grader(name, score):\n",
    "    if score > 94:\n",
    "        return \"A+\"\n",
    "    elif score > 89:\n",
    "        return \"A\"\n",
    "    elif score > 89:\n",
    "        return \"A+\"\n",
    "    elif score > 84:\n",
    "        return \"B+\"\n",
    "    elif score > 79:\n",
    "        return \"B\"\n",
    "    elif score > 74:\n",
    "        return \"C+\"\n",
    "    elif score > 69:\n",
    "        return \"C\"\n",
    "    elif score > 64:\n",
    "        return \"D+\"\n",
    "    elif score > 59:\n",
    "        return \"D\"\n",
    "    else :\n",
    "        return \"F\"\n",
    "\n",
    "name = input(\"학생 이름: \")\n",
    "score = int(input(\"점수: \"))\n",
    "grade = grader(name, score)\n",
    "print(\"학생이름: \", name, \"\\n\", \"점수: \", score, \"\\n\", \"학점: \", grade)"
   ]
  },
  {
   "cell_type": "code",
   "execution_count": null,
   "id": "b2b8fffe",
   "metadata": {},
   "outputs": [],
   "source": []
  },
  {
   "cell_type": "code",
   "execution_count": 19,
   "id": "4b791939",
   "metadata": {},
   "outputs": [],
   "source": [
    "import random\n",
    "def game():\n",
    "    options = [\"가위\", \"바위\", \"보\"]\n",
    "    computer = options[random.randint(0,2)]\n",
    "    my = input(\"가위 바위 보 \\n\")\n",
    "    value = rock_paper_scissors(my, computer)\n",
    "    if value == 0:\n",
    "        print(\"비겼습니다\")\n",
    "        game()\n",
    "    elif value == 1:\n",
    "        print(\"당신의 승리\")\n",
    "    else : \n",
    "        print(\"컴퓨터 승리\")"
   ]
  },
  {
   "cell_type": "code",
   "execution_count": 22,
   "id": "496fd08e",
   "metadata": {},
   "outputs": [
    {
     "name": "stdout",
     "output_type": "stream",
     "text": [
      "가위 바위 보 \n",
      "보\n",
      "비겼습니다\n",
      "가위 바위 보 \n",
      "보\n",
      "컴퓨터 승리\n"
     ]
    }
   ],
   "source": [
    "game()"
   ]
  },
  {
   "cell_type": "code",
   "execution_count": 7,
   "id": "1236ae71",
   "metadata": {},
   "outputs": [],
   "source": [
    "def rock_paper_scissors(my, computer):\n",
    "    if my == computer :\n",
    "        return 0\n",
    "    elif (my == \"가위\" and computer == \"보\") or (my == \"바위\" and computer == \"가위\") or (my == \"보\" and computer == \"바위\"):\n",
    "        return 1\n",
    "    else :\n",
    "        return 2"
   ]
  },
  {
   "cell_type": "code",
   "execution_count": 46,
   "id": "eee3b74b",
   "metadata": {},
   "outputs": [
    {
     "data": {
      "text/plain": [
       "'ddbedd'"
      ]
     },
     "execution_count": 46,
     "metadata": {},
     "output_type": "execute_result"
    }
   ],
   "source": [
    "nlist = {\"ddbecdd\",\"ddbedd\"}\n",
    "max(nlist)"
   ]
  },
  {
   "cell_type": "code",
   "execution_count": 49,
   "id": "229147eb",
   "metadata": {},
   "outputs": [
    {
     "ename": "KeyboardInterrupt",
     "evalue": "Interrupted by user",
     "output_type": "error",
     "traceback": [
      "\u001b[0;31m---------------------------------------------------------------------------\u001b[0m",
      "\u001b[0;31mKeyboardInterrupt\u001b[0m                         Traceback (most recent call last)",
      "Input \u001b[0;32mIn [49]\u001b[0m, in \u001b[0;36m<cell line: 3>\u001b[0;34m()\u001b[0m\n\u001b[1;32m      1\u001b[0m \u001b[38;5;28;01mimport\u001b[39;00m \u001b[38;5;21;01mheapq\u001b[39;00m\n\u001b[0;32m----> 3\u001b[0m n \u001b[38;5;241m=\u001b[39m \u001b[38;5;28mint\u001b[39m(\u001b[38;5;28;43minput\u001b[39;49m\u001b[43m(\u001b[49m\u001b[43m)\u001b[49m)\n\u001b[1;32m      4\u001b[0m card \u001b[38;5;241m=\u001b[39m []\n\u001b[1;32m      5\u001b[0m \u001b[38;5;28;01mfor\u001b[39;00m _ \u001b[38;5;129;01min\u001b[39;00m \u001b[38;5;28mrange\u001b[39m(n):\n",
      "File \u001b[0;32m/opt/homebrew/lib/python3.9/site-packages/ipykernel/kernelbase.py:1177\u001b[0m, in \u001b[0;36mKernel.raw_input\u001b[0;34m(self, prompt)\u001b[0m\n\u001b[1;32m   1173\u001b[0m \u001b[38;5;28;01mif\u001b[39;00m \u001b[38;5;129;01mnot\u001b[39;00m \u001b[38;5;28mself\u001b[39m\u001b[38;5;241m.\u001b[39m_allow_stdin:\n\u001b[1;32m   1174\u001b[0m     \u001b[38;5;28;01mraise\u001b[39;00m StdinNotImplementedError(\n\u001b[1;32m   1175\u001b[0m         \u001b[38;5;124m\"\u001b[39m\u001b[38;5;124mraw_input was called, but this frontend does not support input requests.\u001b[39m\u001b[38;5;124m\"\u001b[39m\n\u001b[1;32m   1176\u001b[0m     )\n\u001b[0;32m-> 1177\u001b[0m \u001b[38;5;28;01mreturn\u001b[39;00m \u001b[38;5;28;43mself\u001b[39;49m\u001b[38;5;241;43m.\u001b[39;49m\u001b[43m_input_request\u001b[49m\u001b[43m(\u001b[49m\n\u001b[1;32m   1178\u001b[0m \u001b[43m    \u001b[49m\u001b[38;5;28;43mstr\u001b[39;49m\u001b[43m(\u001b[49m\u001b[43mprompt\u001b[49m\u001b[43m)\u001b[49m\u001b[43m,\u001b[49m\n\u001b[1;32m   1179\u001b[0m \u001b[43m    \u001b[49m\u001b[38;5;28;43mself\u001b[39;49m\u001b[38;5;241;43m.\u001b[39;49m\u001b[43m_parent_ident\u001b[49m\u001b[43m[\u001b[49m\u001b[38;5;124;43m\"\u001b[39;49m\u001b[38;5;124;43mshell\u001b[39;49m\u001b[38;5;124;43m\"\u001b[39;49m\u001b[43m]\u001b[49m\u001b[43m,\u001b[49m\n\u001b[1;32m   1180\u001b[0m \u001b[43m    \u001b[49m\u001b[38;5;28;43mself\u001b[39;49m\u001b[38;5;241;43m.\u001b[39;49m\u001b[43mget_parent\u001b[49m\u001b[43m(\u001b[49m\u001b[38;5;124;43m\"\u001b[39;49m\u001b[38;5;124;43mshell\u001b[39;49m\u001b[38;5;124;43m\"\u001b[39;49m\u001b[43m)\u001b[49m\u001b[43m,\u001b[49m\n\u001b[1;32m   1181\u001b[0m \u001b[43m    \u001b[49m\u001b[43mpassword\u001b[49m\u001b[38;5;241;43m=\u001b[39;49m\u001b[38;5;28;43;01mFalse\u001b[39;49;00m\u001b[43m,\u001b[49m\n\u001b[1;32m   1182\u001b[0m \u001b[43m\u001b[49m\u001b[43m)\u001b[49m\n",
      "File \u001b[0;32m/opt/homebrew/lib/python3.9/site-packages/ipykernel/kernelbase.py:1219\u001b[0m, in \u001b[0;36mKernel._input_request\u001b[0;34m(self, prompt, ident, parent, password)\u001b[0m\n\u001b[1;32m   1216\u001b[0m             \u001b[38;5;28;01mbreak\u001b[39;00m\n\u001b[1;32m   1217\u001b[0m \u001b[38;5;28;01mexcept\u001b[39;00m \u001b[38;5;167;01mKeyboardInterrupt\u001b[39;00m:\n\u001b[1;32m   1218\u001b[0m     \u001b[38;5;66;03m# re-raise KeyboardInterrupt, to truncate traceback\u001b[39;00m\n\u001b[0;32m-> 1219\u001b[0m     \u001b[38;5;28;01mraise\u001b[39;00m \u001b[38;5;167;01mKeyboardInterrupt\u001b[39;00m(\u001b[38;5;124m\"\u001b[39m\u001b[38;5;124mInterrupted by user\u001b[39m\u001b[38;5;124m\"\u001b[39m) \u001b[38;5;28;01mfrom\u001b[39;00m \u001b[38;5;28mNone\u001b[39m\n\u001b[1;32m   1220\u001b[0m \u001b[38;5;28;01mexcept\u001b[39;00m \u001b[38;5;167;01mException\u001b[39;00m:\n\u001b[1;32m   1221\u001b[0m     \u001b[38;5;28mself\u001b[39m\u001b[38;5;241m.\u001b[39mlog\u001b[38;5;241m.\u001b[39mwarning(\u001b[38;5;124m\"\u001b[39m\u001b[38;5;124mInvalid Message:\u001b[39m\u001b[38;5;124m\"\u001b[39m, exc_info\u001b[38;5;241m=\u001b[39m\u001b[38;5;28;01mTrue\u001b[39;00m)\n",
      "\u001b[0;31mKeyboardInterrupt\u001b[0m: Interrupted by user"
     ]
    }
   ],
   "source": [
    "import heapq\n",
    "\n",
    "n = int(input())\n",
    "card = []\n",
    "for _ in range(n):\n",
    "    heapq.heappush(card, int(input()))\n",
    "\n",
    "card.sort()\n",
    "sum = 0\n",
    "while len(card)>1: # card 원소 남아있으면\n",
    "    tmp = heapq.heappop(card) + heapq.heappop(card)\n",
    "    sum += tmp\n",
    "    heapq.heappush(card, tmp)\n",
    "print(sum)"
   ]
  },
  {
   "cell_type": "code",
   "execution_count": 2,
   "id": "f8f53475",
   "metadata": {},
   "outputs": [
    {
     "name": "stdout",
     "output_type": "stream",
     "text": [
      "200\n",
      "19\n"
     ]
    }
   ],
   "source": [
    "n = int(input())\n",
    "\n",
    "num = 0\n",
    "sum = 0\n",
    "count = 0\n",
    "while num <= n:\n",
    "    num += 1\n",
    "    if sum+num+num+1 > n:\n",
    "        count+= 1\n",
    "        break\n",
    "    else :\n",
    "        count += 1\n",
    "        sum += num\n",
    "print(count)"
   ]
  },
  {
   "cell_type": "code",
   "execution_count": 8,
   "id": "62ec8e1d",
   "metadata": {},
   "outputs": [
    {
     "data": {
      "text/plain": [
       "1"
      ]
     },
     "execution_count": 8,
     "metadata": {},
     "output_type": "execute_result"
    }
   ],
   "source": [
    "a = [1,2,3,4]\n",
    "min(a)"
   ]
  },
  {
   "cell_type": "code",
   "execution_count": 56,
   "id": "c6714b31",
   "metadata": {},
   "outputs": [
    {
     "name": "stdout",
     "output_type": "stream",
     "text": [
      "18\n",
      "6\n"
     ]
    }
   ],
   "source": [
    "n = int(input())\n",
    "\n",
    "small_bag = 3\n",
    "big_bag = 5\n",
    "ans = -1\n",
    "\n",
    "count = 0\n",
    "while True:\n",
    "    if n % big_bag == 0:\n",
    "        ans = (n/big_bag)\n",
    "        break\n",
    "    elif (n - (count*big_bag)) % small_bag == 0:\n",
    "        ans = count + ((n - (count*big_bag)) / small_bag)\n",
    "        break\n",
    "    elif n < (big_bag*count):\n",
    "        break\n",
    "    count += 1\n",
    "    \n",
    "print(int(ans))"
   ]
  },
  {
   "cell_type": "code",
   "execution_count": 35,
   "id": "f38c62c3",
   "metadata": {},
   "outputs": [
    {
     "ename": "KeyboardInterrupt",
     "evalue": "Interrupted by user",
     "output_type": "error",
     "traceback": [
      "\u001b[0;31m---------------------------------------------------------------------------\u001b[0m",
      "\u001b[0;31mKeyboardInterrupt\u001b[0m                         Traceback (most recent call last)",
      "Input \u001b[0;32mIn [35]\u001b[0m, in \u001b[0;36m<cell line: 1>\u001b[0;34m()\u001b[0m\n\u001b[0;32m----> 1\u001b[0m n \u001b[38;5;241m=\u001b[39m \u001b[38;5;28mint\u001b[39m(\u001b[38;5;28;43minput\u001b[39;49m\u001b[43m(\u001b[49m\u001b[43m)\u001b[49m)\n\u001b[1;32m      3\u001b[0m reserveStart \u001b[38;5;241m=\u001b[39m \u001b[38;5;241m0\u001b[39m\n\u001b[1;32m      4\u001b[0m reserveEnd \u001b[38;5;241m=\u001b[39m \u001b[38;5;241m0\u001b[39m\n",
      "File \u001b[0;32m/opt/homebrew/lib/python3.9/site-packages/ipykernel/kernelbase.py:1177\u001b[0m, in \u001b[0;36mKernel.raw_input\u001b[0;34m(self, prompt)\u001b[0m\n\u001b[1;32m   1173\u001b[0m \u001b[38;5;28;01mif\u001b[39;00m \u001b[38;5;129;01mnot\u001b[39;00m \u001b[38;5;28mself\u001b[39m\u001b[38;5;241m.\u001b[39m_allow_stdin:\n\u001b[1;32m   1174\u001b[0m     \u001b[38;5;28;01mraise\u001b[39;00m StdinNotImplementedError(\n\u001b[1;32m   1175\u001b[0m         \u001b[38;5;124m\"\u001b[39m\u001b[38;5;124mraw_input was called, but this frontend does not support input requests.\u001b[39m\u001b[38;5;124m\"\u001b[39m\n\u001b[1;32m   1176\u001b[0m     )\n\u001b[0;32m-> 1177\u001b[0m \u001b[38;5;28;01mreturn\u001b[39;00m \u001b[38;5;28;43mself\u001b[39;49m\u001b[38;5;241;43m.\u001b[39;49m\u001b[43m_input_request\u001b[49m\u001b[43m(\u001b[49m\n\u001b[1;32m   1178\u001b[0m \u001b[43m    \u001b[49m\u001b[38;5;28;43mstr\u001b[39;49m\u001b[43m(\u001b[49m\u001b[43mprompt\u001b[49m\u001b[43m)\u001b[49m\u001b[43m,\u001b[49m\n\u001b[1;32m   1179\u001b[0m \u001b[43m    \u001b[49m\u001b[38;5;28;43mself\u001b[39;49m\u001b[38;5;241;43m.\u001b[39;49m\u001b[43m_parent_ident\u001b[49m\u001b[43m[\u001b[49m\u001b[38;5;124;43m\"\u001b[39;49m\u001b[38;5;124;43mshell\u001b[39;49m\u001b[38;5;124;43m\"\u001b[39;49m\u001b[43m]\u001b[49m\u001b[43m,\u001b[49m\n\u001b[1;32m   1180\u001b[0m \u001b[43m    \u001b[49m\u001b[38;5;28;43mself\u001b[39;49m\u001b[38;5;241;43m.\u001b[39;49m\u001b[43mget_parent\u001b[49m\u001b[43m(\u001b[49m\u001b[38;5;124;43m\"\u001b[39;49m\u001b[38;5;124;43mshell\u001b[39;49m\u001b[38;5;124;43m\"\u001b[39;49m\u001b[43m)\u001b[49m\u001b[43m,\u001b[49m\n\u001b[1;32m   1181\u001b[0m \u001b[43m    \u001b[49m\u001b[43mpassword\u001b[49m\u001b[38;5;241;43m=\u001b[39;49m\u001b[38;5;28;43;01mFalse\u001b[39;49;00m\u001b[43m,\u001b[49m\n\u001b[1;32m   1182\u001b[0m \u001b[43m\u001b[49m\u001b[43m)\u001b[49m\n",
      "File \u001b[0;32m/opt/homebrew/lib/python3.9/site-packages/ipykernel/kernelbase.py:1219\u001b[0m, in \u001b[0;36mKernel._input_request\u001b[0;34m(self, prompt, ident, parent, password)\u001b[0m\n\u001b[1;32m   1216\u001b[0m             \u001b[38;5;28;01mbreak\u001b[39;00m\n\u001b[1;32m   1217\u001b[0m \u001b[38;5;28;01mexcept\u001b[39;00m \u001b[38;5;167;01mKeyboardInterrupt\u001b[39;00m:\n\u001b[1;32m   1218\u001b[0m     \u001b[38;5;66;03m# re-raise KeyboardInterrupt, to truncate traceback\u001b[39;00m\n\u001b[0;32m-> 1219\u001b[0m     \u001b[38;5;28;01mraise\u001b[39;00m \u001b[38;5;167;01mKeyboardInterrupt\u001b[39;00m(\u001b[38;5;124m\"\u001b[39m\u001b[38;5;124mInterrupted by user\u001b[39m\u001b[38;5;124m\"\u001b[39m) \u001b[38;5;28;01mfrom\u001b[39;00m \u001b[38;5;28mNone\u001b[39m\n\u001b[1;32m   1220\u001b[0m \u001b[38;5;28;01mexcept\u001b[39;00m \u001b[38;5;167;01mException\u001b[39;00m:\n\u001b[1;32m   1221\u001b[0m     \u001b[38;5;28mself\u001b[39m\u001b[38;5;241m.\u001b[39mlog\u001b[38;5;241m.\u001b[39mwarning(\u001b[38;5;124m\"\u001b[39m\u001b[38;5;124mInvalid Message:\u001b[39m\u001b[38;5;124m\"\u001b[39m, exc_info\u001b[38;5;241m=\u001b[39m\u001b[38;5;28;01mTrue\u001b[39;00m)\n",
      "\u001b[0;31mKeyboardInterrupt\u001b[0m: Interrupted by user"
     ]
    }
   ],
   "source": [
    "n = int(input())\n",
    "\n",
    "reserveStart = 0\n",
    "reserveEnd = 0\n",
    "count=0\n",
    "\n",
    "for i in range(n):\n",
    "    start, end = input().split()\n",
    "    start = int(start)\n",
    "    end = int(end)\n",
    "    if end <= reserveStart:\n",
    "        reserveStart = start\n",
    "        count += 1\n",
    "    elif start >= reserveEnd:\n",
    "        reserveEnd = end\n",
    "        count += 1\n",
    "\n",
    "print(count)"
   ]
  },
  {
   "cell_type": "code",
   "execution_count": 22,
   "id": "670f1ef5",
   "metadata": {},
   "outputs": [
    {
     "name": "stdout",
     "output_type": "stream",
     "text": [
      "0 1 2 3 4 \n",
      "\n",
      "1 2 3 4 5 "
     ]
    }
   ],
   "source": [
    "for i in range(5):\n",
    "    print(i, end=\" \")\n",
    "    \n",
    "print(\"\\n\")\n",
    "\n",
    "nlist = {1,2,3,4,5}\n",
    "\n",
    "for i in nlist:\n",
    "    print(i, end=\" \")"
   ]
  },
  {
   "cell_type": "markdown",
   "id": "1b055b18",
   "metadata": {},
   "source": [
    "nlist = list[19][19]\n",
    "for i in range(0, 20):\n",
    "    for j in range(20):\n",
    "        n = input()\n",
    "        n = int(n)\n",
    "        nlist[i].append(n)\n",
    "\n",
    "flip = input().split()\n",
    "flip = int(flip)\n",
    "\n",
    "for i in range(flip):\n",
    "    x, y = input().split()\n",
    "    for j in range(0,20):\n",
    "        if nlist[x][j] == 0:\n",
    "            nlist[x][j] = 1\n",
    "        else: \n",
    "            nlist[x][j] = 0\n",
    "    \n",
    "    for j in range(0,20):\n",
    "        if nlist[j][y] == 0:\n",
    "            nlist[j][y] = 1\n",
    "        else: \n",
    "            nlist[j][y] = 0"
   ]
  },
  {
   "cell_type": "code",
   "execution_count": null,
   "id": "b066732c",
   "metadata": {},
   "outputs": [],
   "source": [
    "1 1 1 1 1 1 1 1 1 1\n",
    "1 0 0 0 0 0 0 0 0 1\n",
    "1 0 0 0 0 0 0 0 0 1\n",
    "1 0 0 0 0 0 0 0 0 1\n",
    "1 0 0 0 0 0 0 0 0 1\n",
    "1 0 0 0 0 0 0 0 0 1\n",
    "1 0 0 0 0 0 0 0 0 1\n",
    "1 0 0 0 0 0 0 0 0 1\n",
    "1 0 0 0 0 0 0 0 0 1\n",
    "1 1 1 1 1 1 1 1 1 1"
   ]
  }
 ],
 "metadata": {
  "kernelspec": {
   "display_name": "Python 3 (ipykernel)",
   "language": "python",
   "name": "python3"
  },
  "language_info": {
   "codemirror_mode": {
    "name": "ipython",
    "version": 3
   },
   "file_extension": ".py",
   "mimetype": "text/x-python",
   "name": "python",
   "nbconvert_exporter": "python",
   "pygments_lexer": "ipython3",
   "version": "3.9.13"
  }
 },
 "nbformat": 4,
 "nbformat_minor": 5
}
