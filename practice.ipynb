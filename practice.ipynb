{
 "cells": [
  {
   "cell_type": "code",
   "execution_count": null,
   "id": "399a548f",
   "metadata": {},
   "outputs": [],
   "source": []
  },
  {
   "cell_type": "code",
   "execution_count": 28,
   "id": "0a82f5fc",
   "metadata": {},
   "outputs": [
    {
     "name": "stdout",
     "output_type": "stream",
     "text": [
      "월급을 만원 단위로 입력하세요 : 300\n",
      "세전연봉 :  3600 만원\n",
      "세후연봉 :  3060 만원\n"
     ]
    }
   ],
   "source": [
    "yearly_payment = 12*int(input(\"월급을 만원 단위로 입력하세요 : \"))\n",
    "\n",
    "if yearly_payment > 50000:\n",
    "    net_income = yearly_payment*0.58\n",
    "elif yearly_payment > 30000:\n",
    "    net_income = yearly_payment*0.60\n",
    "elif yearly_payment > 15000:\n",
    "    net_income = yearly_payment*0.62\n",
    "elif yearly_payment > 8800:\n",
    "    net_income = yearly_payment*0.65\n",
    "elif yearly_payment > 4600:\n",
    "    net_income = yearly_payment*0.76\n",
    "elif yearly_payment > 1200:\n",
    "    net_income = yearly_payment*0.85\n",
    "else:\n",
    "    net_income = yearly_payment*0.94\n",
    "print(\"세전연봉 : \", yearly_payment, \"만원\")\n",
    "print(\"세후연봉 : \", int(net_income), \"만원\")"
   ]
  },
  {
   "cell_type": "code",
   "execution_count": 32,
   "id": "3da93bab",
   "metadata": {},
   "outputs": [
    {
     "name": "stdout",
     "output_type": "stream",
     "text": [
      "학생 이름: 김민기\n",
      "점수: 10\n",
      "학생이름:  김민기 \n",
      " 점수:  10 \n",
      " 학점:  F\n"
     ]
    }
   ],
   "source": [
    "def grader(name, score):\n",
    "    if score > 94:\n",
    "        return \"A+\"\n",
    "    elif score > 89:\n",
    "        return \"A\"\n",
    "    elif score > 89:\n",
    "        return \"A+\"\n",
    "    elif score > 84:\n",
    "        return \"B+\"\n",
    "    elif score > 79:\n",
    "        return \"B\"\n",
    "    elif score > 74:\n",
    "        return \"C+\"\n",
    "    elif score > 69:\n",
    "        return \"C\"\n",
    "    elif score > 64:\n",
    "        return \"D+\"\n",
    "    elif score > 59:\n",
    "        return \"D\"\n",
    "    else :\n",
    "        return \"F\"\n",
    "\n",
    "name = input(\"학생 이름: \")\n",
    "score = int(input(\"점수: \"))\n",
    "grade = grader(name, score)\n",
    "print(\"학생이름: \", name, \"\\n\", \"점수: \", score, \"\\n\", \"학점: \", grade)"
   ]
  },
  {
   "cell_type": "code",
   "execution_count": null,
   "id": "b2b8fffe",
   "metadata": {},
   "outputs": [],
   "source": []
  },
  {
   "cell_type": "code",
   "execution_count": 19,
   "id": "4b791939",
   "metadata": {},
   "outputs": [],
   "source": [
    "import random\n",
    "def game():\n",
    "    options = [\"가위\", \"바위\", \"보\"]\n",
    "    computer = options[random.randint(0,2)]\n",
    "    my = input(\"가위 바위 보 \\n\")\n",
    "    value = rock_paper_scissors(my, computer)\n",
    "    if value == 0:\n",
    "        print(\"비겼습니다\")\n",
    "        game()\n",
    "    elif value == 1:\n",
    "        print(\"당신의 승리\")\n",
    "    else : \n",
    "        print(\"컴퓨터 승리\")"
   ]
  },
  {
   "cell_type": "code",
   "execution_count": 22,
   "id": "496fd08e",
   "metadata": {},
   "outputs": [
    {
     "name": "stdout",
     "output_type": "stream",
     "text": [
      "가위 바위 보 \n",
      "보\n",
      "비겼습니다\n",
      "가위 바위 보 \n",
      "보\n",
      "컴퓨터 승리\n"
     ]
    }
   ],
   "source": [
    "game()"
   ]
  },
  {
   "cell_type": "code",
   "execution_count": 7,
   "id": "1236ae71",
   "metadata": {},
   "outputs": [],
   "source": [
    "def rock_paper_scissors(my, computer):\n",
    "    if my == computer :\n",
    "        return 0\n",
    "    elif (my == \"가위\" and computer == \"보\") or (my == \"바위\" and computer == \"가위\") or (my == \"보\" and computer == \"바위\"):\n",
    "        return 1\n",
    "    else :\n",
    "        return 2"
   ]
  },
  {
   "cell_type": "code",
   "execution_count": 46,
   "id": "eee3b74b",
   "metadata": {},
   "outputs": [
    {
     "data": {
      "text/plain": [
       "'ddbedd'"
      ]
     },
     "execution_count": 46,
     "metadata": {},
     "output_type": "execute_result"
    }
   ],
   "source": [
    "nlist = {\"ddbecdd\",\"ddbedd\"}\n",
    "max(nlist)"
   ]
  },
  {
   "cell_type": "code",
   "execution_count": 49,
   "id": "229147eb",
   "metadata": {},
   "outputs": [
    {
     "ename": "KeyboardInterrupt",
     "evalue": "Interrupted by user",
     "output_type": "error",
     "traceback": [
      "\u001b[0;31m---------------------------------------------------------------------------\u001b[0m",
      "\u001b[0;31mKeyboardInterrupt\u001b[0m                         Traceback (most recent call last)",
      "Input \u001b[0;32mIn [49]\u001b[0m, in \u001b[0;36m<cell line: 3>\u001b[0;34m()\u001b[0m\n\u001b[1;32m      1\u001b[0m \u001b[38;5;28;01mimport\u001b[39;00m \u001b[38;5;21;01mheapq\u001b[39;00m\n\u001b[0;32m----> 3\u001b[0m n \u001b[38;5;241m=\u001b[39m \u001b[38;5;28mint\u001b[39m(\u001b[38;5;28;43minput\u001b[39;49m\u001b[43m(\u001b[49m\u001b[43m)\u001b[49m)\n\u001b[1;32m      4\u001b[0m card \u001b[38;5;241m=\u001b[39m []\n\u001b[1;32m      5\u001b[0m \u001b[38;5;28;01mfor\u001b[39;00m _ \u001b[38;5;129;01min\u001b[39;00m \u001b[38;5;28mrange\u001b[39m(n):\n",
      "File \u001b[0;32m/opt/homebrew/lib/python3.9/site-packages/ipykernel/kernelbase.py:1177\u001b[0m, in \u001b[0;36mKernel.raw_input\u001b[0;34m(self, prompt)\u001b[0m\n\u001b[1;32m   1173\u001b[0m \u001b[38;5;28;01mif\u001b[39;00m \u001b[38;5;129;01mnot\u001b[39;00m \u001b[38;5;28mself\u001b[39m\u001b[38;5;241m.\u001b[39m_allow_stdin:\n\u001b[1;32m   1174\u001b[0m     \u001b[38;5;28;01mraise\u001b[39;00m StdinNotImplementedError(\n\u001b[1;32m   1175\u001b[0m         \u001b[38;5;124m\"\u001b[39m\u001b[38;5;124mraw_input was called, but this frontend does not support input requests.\u001b[39m\u001b[38;5;124m\"\u001b[39m\n\u001b[1;32m   1176\u001b[0m     )\n\u001b[0;32m-> 1177\u001b[0m \u001b[38;5;28;01mreturn\u001b[39;00m \u001b[38;5;28;43mself\u001b[39;49m\u001b[38;5;241;43m.\u001b[39;49m\u001b[43m_input_request\u001b[49m\u001b[43m(\u001b[49m\n\u001b[1;32m   1178\u001b[0m \u001b[43m    \u001b[49m\u001b[38;5;28;43mstr\u001b[39;49m\u001b[43m(\u001b[49m\u001b[43mprompt\u001b[49m\u001b[43m)\u001b[49m\u001b[43m,\u001b[49m\n\u001b[1;32m   1179\u001b[0m \u001b[43m    \u001b[49m\u001b[38;5;28;43mself\u001b[39;49m\u001b[38;5;241;43m.\u001b[39;49m\u001b[43m_parent_ident\u001b[49m\u001b[43m[\u001b[49m\u001b[38;5;124;43m\"\u001b[39;49m\u001b[38;5;124;43mshell\u001b[39;49m\u001b[38;5;124;43m\"\u001b[39;49m\u001b[43m]\u001b[49m\u001b[43m,\u001b[49m\n\u001b[1;32m   1180\u001b[0m \u001b[43m    \u001b[49m\u001b[38;5;28;43mself\u001b[39;49m\u001b[38;5;241;43m.\u001b[39;49m\u001b[43mget_parent\u001b[49m\u001b[43m(\u001b[49m\u001b[38;5;124;43m\"\u001b[39;49m\u001b[38;5;124;43mshell\u001b[39;49m\u001b[38;5;124;43m\"\u001b[39;49m\u001b[43m)\u001b[49m\u001b[43m,\u001b[49m\n\u001b[1;32m   1181\u001b[0m \u001b[43m    \u001b[49m\u001b[43mpassword\u001b[49m\u001b[38;5;241;43m=\u001b[39;49m\u001b[38;5;28;43;01mFalse\u001b[39;49;00m\u001b[43m,\u001b[49m\n\u001b[1;32m   1182\u001b[0m \u001b[43m\u001b[49m\u001b[43m)\u001b[49m\n",
      "File \u001b[0;32m/opt/homebrew/lib/python3.9/site-packages/ipykernel/kernelbase.py:1219\u001b[0m, in \u001b[0;36mKernel._input_request\u001b[0;34m(self, prompt, ident, parent, password)\u001b[0m\n\u001b[1;32m   1216\u001b[0m             \u001b[38;5;28;01mbreak\u001b[39;00m\n\u001b[1;32m   1217\u001b[0m \u001b[38;5;28;01mexcept\u001b[39;00m \u001b[38;5;167;01mKeyboardInterrupt\u001b[39;00m:\n\u001b[1;32m   1218\u001b[0m     \u001b[38;5;66;03m# re-raise KeyboardInterrupt, to truncate traceback\u001b[39;00m\n\u001b[0;32m-> 1219\u001b[0m     \u001b[38;5;28;01mraise\u001b[39;00m \u001b[38;5;167;01mKeyboardInterrupt\u001b[39;00m(\u001b[38;5;124m\"\u001b[39m\u001b[38;5;124mInterrupted by user\u001b[39m\u001b[38;5;124m\"\u001b[39m) \u001b[38;5;28;01mfrom\u001b[39;00m \u001b[38;5;28mNone\u001b[39m\n\u001b[1;32m   1220\u001b[0m \u001b[38;5;28;01mexcept\u001b[39;00m \u001b[38;5;167;01mException\u001b[39;00m:\n\u001b[1;32m   1221\u001b[0m     \u001b[38;5;28mself\u001b[39m\u001b[38;5;241m.\u001b[39mlog\u001b[38;5;241m.\u001b[39mwarning(\u001b[38;5;124m\"\u001b[39m\u001b[38;5;124mInvalid Message:\u001b[39m\u001b[38;5;124m\"\u001b[39m, exc_info\u001b[38;5;241m=\u001b[39m\u001b[38;5;28;01mTrue\u001b[39;00m)\n",
      "\u001b[0;31mKeyboardInterrupt\u001b[0m: Interrupted by user"
     ]
    }
   ],
   "source": [
    "import heapq\n",
    "\n",
    "n = int(input())\n",
    "card = []\n",
    "for _ in range(n):\n",
    "    heapq.heappush(card, int(input()))\n",
    "\n",
    "card.sort()\n",
    "sum = 0\n",
    "while len(card)>1: # card 원소 남아있으면\n",
    "    tmp = heapq.heappop(card) + heapq.heappop(card)\n",
    "    sum += tmp\n",
    "    heapq.heappush(card, tmp)\n",
    "print(sum)"
   ]
  },
  {
   "cell_type": "code",
   "execution_count": 2,
   "id": "f8f53475",
   "metadata": {},
   "outputs": [
    {
     "name": "stdout",
     "output_type": "stream",
     "text": [
      "200\n",
      "19\n"
     ]
    }
   ],
   "source": [
    "n = int(input())\n",
    "\n",
    "num = 0\n",
    "sum = 0\n",
    "count = 0\n",
    "while num <= n:\n",
    "    num += 1\n",
    "    if sum+num+num+1 > n:\n",
    "        count+= 1\n",
    "        break\n",
    "    else :\n",
    "        count += 1\n",
    "        sum += num\n",
    "print(count)"
   ]
  },
  {
   "cell_type": "code",
   "execution_count": 8,
   "id": "62ec8e1d",
   "metadata": {},
   "outputs": [
    {
     "data": {
      "text/plain": [
       "1"
      ]
     },
     "execution_count": 8,
     "metadata": {},
     "output_type": "execute_result"
    }
   ],
   "source": [
    "a = [1,2,3,4]\n",
    "min(a)"
   ]
  },
  {
   "cell_type": "code",
   "execution_count": 56,
   "id": "c6714b31",
   "metadata": {},
   "outputs": [
    {
     "name": "stdout",
     "output_type": "stream",
     "text": [
      "18\n",
      "6\n"
     ]
    }
   ],
   "source": [
    "n = int(input())\n",
    "\n",
    "small_bag = 3\n",
    "big_bag = 5\n",
    "ans = -1\n",
    "\n",
    "count = 0\n",
    "while True:\n",
    "    if n % big_bag == 0:\n",
    "        ans = (n/big_bag)\n",
    "        break\n",
    "    elif (n - (count*big_bag)) % small_bag == 0:\n",
    "        ans = count + ((n - (count*big_bag)) / small_bag)\n",
    "        break\n",
    "    elif n < (big_bag*count):\n",
    "        break\n",
    "    count += 1\n",
    "    \n",
    "print(int(ans))"
   ]
  },
  {
   "cell_type": "code",
   "execution_count": 35,
   "id": "f38c62c3",
   "metadata": {},
   "outputs": [
    {
     "ename": "KeyboardInterrupt",
     "evalue": "Interrupted by user",
     "output_type": "error",
     "traceback": [
      "\u001b[0;31m---------------------------------------------------------------------------\u001b[0m",
      "\u001b[0;31mKeyboardInterrupt\u001b[0m                         Traceback (most recent call last)",
      "Input \u001b[0;32mIn [35]\u001b[0m, in \u001b[0;36m<cell line: 1>\u001b[0;34m()\u001b[0m\n\u001b[0;32m----> 1\u001b[0m n \u001b[38;5;241m=\u001b[39m \u001b[38;5;28mint\u001b[39m(\u001b[38;5;28;43minput\u001b[39;49m\u001b[43m(\u001b[49m\u001b[43m)\u001b[49m)\n\u001b[1;32m      3\u001b[0m reserveStart \u001b[38;5;241m=\u001b[39m \u001b[38;5;241m0\u001b[39m\n\u001b[1;32m      4\u001b[0m reserveEnd \u001b[38;5;241m=\u001b[39m \u001b[38;5;241m0\u001b[39m\n",
      "File \u001b[0;32m/opt/homebrew/lib/python3.9/site-packages/ipykernel/kernelbase.py:1177\u001b[0m, in \u001b[0;36mKernel.raw_input\u001b[0;34m(self, prompt)\u001b[0m\n\u001b[1;32m   1173\u001b[0m \u001b[38;5;28;01mif\u001b[39;00m \u001b[38;5;129;01mnot\u001b[39;00m \u001b[38;5;28mself\u001b[39m\u001b[38;5;241m.\u001b[39m_allow_stdin:\n\u001b[1;32m   1174\u001b[0m     \u001b[38;5;28;01mraise\u001b[39;00m StdinNotImplementedError(\n\u001b[1;32m   1175\u001b[0m         \u001b[38;5;124m\"\u001b[39m\u001b[38;5;124mraw_input was called, but this frontend does not support input requests.\u001b[39m\u001b[38;5;124m\"\u001b[39m\n\u001b[1;32m   1176\u001b[0m     )\n\u001b[0;32m-> 1177\u001b[0m \u001b[38;5;28;01mreturn\u001b[39;00m \u001b[38;5;28;43mself\u001b[39;49m\u001b[38;5;241;43m.\u001b[39;49m\u001b[43m_input_request\u001b[49m\u001b[43m(\u001b[49m\n\u001b[1;32m   1178\u001b[0m \u001b[43m    \u001b[49m\u001b[38;5;28;43mstr\u001b[39;49m\u001b[43m(\u001b[49m\u001b[43mprompt\u001b[49m\u001b[43m)\u001b[49m\u001b[43m,\u001b[49m\n\u001b[1;32m   1179\u001b[0m \u001b[43m    \u001b[49m\u001b[38;5;28;43mself\u001b[39;49m\u001b[38;5;241;43m.\u001b[39;49m\u001b[43m_parent_ident\u001b[49m\u001b[43m[\u001b[49m\u001b[38;5;124;43m\"\u001b[39;49m\u001b[38;5;124;43mshell\u001b[39;49m\u001b[38;5;124;43m\"\u001b[39;49m\u001b[43m]\u001b[49m\u001b[43m,\u001b[49m\n\u001b[1;32m   1180\u001b[0m \u001b[43m    \u001b[49m\u001b[38;5;28;43mself\u001b[39;49m\u001b[38;5;241;43m.\u001b[39;49m\u001b[43mget_parent\u001b[49m\u001b[43m(\u001b[49m\u001b[38;5;124;43m\"\u001b[39;49m\u001b[38;5;124;43mshell\u001b[39;49m\u001b[38;5;124;43m\"\u001b[39;49m\u001b[43m)\u001b[49m\u001b[43m,\u001b[49m\n\u001b[1;32m   1181\u001b[0m \u001b[43m    \u001b[49m\u001b[43mpassword\u001b[49m\u001b[38;5;241;43m=\u001b[39;49m\u001b[38;5;28;43;01mFalse\u001b[39;49;00m\u001b[43m,\u001b[49m\n\u001b[1;32m   1182\u001b[0m \u001b[43m\u001b[49m\u001b[43m)\u001b[49m\n",
      "File \u001b[0;32m/opt/homebrew/lib/python3.9/site-packages/ipykernel/kernelbase.py:1219\u001b[0m, in \u001b[0;36mKernel._input_request\u001b[0;34m(self, prompt, ident, parent, password)\u001b[0m\n\u001b[1;32m   1216\u001b[0m             \u001b[38;5;28;01mbreak\u001b[39;00m\n\u001b[1;32m   1217\u001b[0m \u001b[38;5;28;01mexcept\u001b[39;00m \u001b[38;5;167;01mKeyboardInterrupt\u001b[39;00m:\n\u001b[1;32m   1218\u001b[0m     \u001b[38;5;66;03m# re-raise KeyboardInterrupt, to truncate traceback\u001b[39;00m\n\u001b[0;32m-> 1219\u001b[0m     \u001b[38;5;28;01mraise\u001b[39;00m \u001b[38;5;167;01mKeyboardInterrupt\u001b[39;00m(\u001b[38;5;124m\"\u001b[39m\u001b[38;5;124mInterrupted by user\u001b[39m\u001b[38;5;124m\"\u001b[39m) \u001b[38;5;28;01mfrom\u001b[39;00m \u001b[38;5;28mNone\u001b[39m\n\u001b[1;32m   1220\u001b[0m \u001b[38;5;28;01mexcept\u001b[39;00m \u001b[38;5;167;01mException\u001b[39;00m:\n\u001b[1;32m   1221\u001b[0m     \u001b[38;5;28mself\u001b[39m\u001b[38;5;241m.\u001b[39mlog\u001b[38;5;241m.\u001b[39mwarning(\u001b[38;5;124m\"\u001b[39m\u001b[38;5;124mInvalid Message:\u001b[39m\u001b[38;5;124m\"\u001b[39m, exc_info\u001b[38;5;241m=\u001b[39m\u001b[38;5;28;01mTrue\u001b[39;00m)\n",
      "\u001b[0;31mKeyboardInterrupt\u001b[0m: Interrupted by user"
     ]
    }
   ],
   "source": [
    "n = int(input())\n",
    "\n",
    "reserveStart = 0\n",
    "reserveEnd = 0\n",
    "count=0\n",
    "\n",
    "for i in range(n):\n",
    "    start, end = input().split()\n",
    "    start = int(start)\n",
    "    end = int(end)\n",
    "    if end <= reserveStart:\n",
    "        reserveStart = start\n",
    "        count += 1\n",
    "    elif start >= reserveEnd:\n",
    "        reserveEnd = end\n",
    "        count += 1\n",
    "\n",
    "print(count)"
   ]
  },
  {
   "cell_type": "code",
   "execution_count": 22,
   "id": "670f1ef5",
   "metadata": {},
   "outputs": [
    {
     "name": "stdout",
     "output_type": "stream",
     "text": [
      "0 1 2 3 4 \n",
      "\n",
      "1 2 3 4 5 "
     ]
    }
   ],
   "source": [
    "for i in range(5):\n",
    "    print(i, end=\" \")\n",
    "    \n",
    "print(\"\\n\")\n",
    "\n",
    "nlist = {1,2,3,4,5}\n",
    "\n",
    "for i in nlist:\n",
    "    print(i, end=\" \")"
   ]
  },
  {
   "cell_type": "markdown",
   "id": "1b055b18",
   "metadata": {},
   "source": [
    "nlist = list[19][19]\n",
    "for i in range(0, 20):\n",
    "    for j in range(20):\n",
    "        n = input()\n",
    "        n = int(n)\n",
    "        nlist[i].append(n)\n",
    "\n",
    "flip = input().split()\n",
    "flip = int(flip)\n",
    "\n",
    "for i in range(flip):\n",
    "    x, y = input().split()\n",
    "    for j in range(0,20):\n",
    "        if nlist[x][j] == 0:\n",
    "            nlist[x][j] = 1\n",
    "        else: \n",
    "            nlist[x][j] = 0\n",
    "    \n",
    "    for j in range(0,20):\n",
    "        if nlist[j][y] == 0:\n",
    "            nlist[j][y] = 1\n",
    "        else: \n",
    "            nlist[j][y] = 0"
   ]
  },
  {
   "cell_type": "code",
   "execution_count": null,
   "id": "b066732c",
   "metadata": {},
   "outputs": [],
   "source": [
    "1 1 1 1 1 1 1 1 1 1\n",
    "1 0 0 0 0 0 0 0 0 1\n",
    "1 0 0 0 0 0 0 0 0 1\n",
    "1 0 0 0 0 0 0 0 0 1\n",
    "1 0 0 0 0 0 0 0 0 1\n",
    "1 0 0 0 0 0 0 0 0 1\n",
    "1 0 0 0 0 0 0 0 0 1\n",
    "1 0 0 0 0 0 0 0 0 1\n",
    "1 0 0 0 0 0 0 0 0 1\n",
    "1 1 1 1 1 1 1 1 1 1"
   ]
  }
 ],
 "metadata": {
  "kernelspec": {
   "display_name": "Python 3 (ipykernel)",
   "language": "python",
   "name": "python3"
  },
  "language_info": {
   "codemirror_mode": {
    "name": "ipython",
    "version": 3
   },
   "file_extension": ".py",
   "mimetype": "text/x-python",
   "name": "python",
   "nbconvert_exporter": "python",
   "pygments_lexer": "ipython3",
   "version": "3.9.13"
  }
 },
 "nbformat": 4,
 "nbformat_minor": 5
}
